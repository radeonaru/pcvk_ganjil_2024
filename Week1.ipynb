{
  "cells": [
    {
      "cell_type": "code",
      "execution_count": null,
      "metadata": {
        "id": "BYCd7p9Kd5Tz"
      },
      "outputs": [],
      "source": [
        "import numpy as np\n",
        "import pandas as pd\n",
        "import cv2 as cv\n",
        "from google.colab.patches import cv2_imshow\n",
        "from skimage import io\n",
        "from skimage import transform\n",
        "from PIL import Image\n",
        "import matplotlib.pylab as plt"
      ]
    },
    {
      "cell_type": "code",
      "execution_count": null,
      "metadata": {
        "id": "WyQ_ovbcsKRi"
      },
      "outputs": [],
      "source": [
        "urls = [\"https://iiif.lib.ncsu.edu/iiif/0052574/full/800,/0/default.jpg\",\n",
        "        \"https://iiif.lib.ncsu.edu/iiif/0016007/full/800,/0/default.jpg\",\n",
        "        \"https://st5.depositphotos.com/6923920/66359/i/450/depositphotos_663596106-stock-photo-cat-green-grass.jpg\"]\n",
        "\n",
        "for url in urls:\n",
        "  image = io.imread(url)                            # read image\n",
        "  image = cv.resize(image, (0,0), fx=0.5, fy=0.5)   # resize image to half size\n",
        "  image_2 = cv.cvtColor(image, cv.COLOR_BGR2RGB)    # convert color to RGB\n",
        "  final_frame = cv.hconcat((image, image_2))        # concatenate image\n",
        "  cv2_imshow(final_frame)                           # show image\n",
        "  print('\\n')"
      ]
    },
    {
      "cell_type": "code",
      "execution_count": null,
      "metadata": {
        "id": "Gr-M5N2zsKRi"
      },
      "outputs": [],
      "source": [
        "tinggi = image_2.shape[0]\n",
        "lebar = image_2.shape[1]\n",
        "print(\"resolusi: tinggi x lebar = \",tinggi,\" x \",lebar)\n",
        "cv2_imshow(image_2)"
      ]
    },
    {
      "cell_type": "code",
      "execution_count": null,
      "metadata": {
        "id": "2tFvLXqTsKRj"
      },
      "outputs": [],
      "source": [
        "image_2 = cv.cvtColor(image, cv.COLOR_BGR2RGB)\n",
        "image_3 = cv.cvtColor(image, cv.COLOR_BGR2RGB)\n",
        "\n",
        "for y in range (lebar):\n",
        "  image_3[int((tinggi)/2),y] = [255,255,255]\n",
        "\n",
        "final_frame = cv.hconcat((image_2, image_3))\n",
        "cv2_imshow(image_2)"
      ]
    },
    {
      "cell_type": "code",
      "execution_count": null,
      "metadata": {
        "id": "F14YozotsKRj"
      },
      "outputs": [],
      "source": []
    },
    {
      "cell_type": "markdown",
      "metadata": {
        "id": "W3PQ8DYAtDtW"
      },
      "source": [
        "Pertanyaan\n",
        "\n",
        "1. Jelaskan, mengapa pada modul praktikum ini eksekusi kode Python dilakukan menggunakan Google Colab?\n",
        "2.\tJelaskan mengenai kegunaan setiap library pada praktikum langkah ke delapan? Apakah semua library tersebut harus digunakan dalam praktikum sesi ini?\n",
        "3.\tPada uji coba langkah ke-9 terdapat potongan kode program sebagai berikut :\n",
        "\n",
        "  ![Picture1.jpg](data:image/jpeg;base64,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)\n",
        "\n",
        "  Apa kegunaan kode program tersebut?dan apa pengaruhnya jika tidak dilakukan?\n",
        "\n",
        "4.\tPerhatikan potongan kode progam berikut :\n",
        "\n",
        "  ![Picture2.jpg](data:image/jpeg;base64,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)\n",
        "\n",
        "  Apakah kegunaan kode [255,255,255] ? Jelaskan!\n",
        "  \n",
        "5.\tJelaskan keterkaitan antara pixel dan juga resolusi gambar yang tinggi ataupun rendah!\n",
        "\n"
      ]
    },
    {
      "cell_type": "markdown",
      "metadata": {
        "id": "4StQQ-JRt92l"
      },
      "source": []
    }
  ],
  "metadata": {
    "colab": {
      "provenance": [],
      "toc_visible": true
    },
    "kernelspec": {
      "display_name": "Python 3",
      "name": "python3"
    },
    "language_info": {
      "name": "python"
    }
  },
  "nbformat": 4,
  "nbformat_minor": 0
}
