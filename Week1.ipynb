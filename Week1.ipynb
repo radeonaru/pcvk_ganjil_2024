{
  "cells": [
    {
      "cell_type": "markdown",
      "metadata": {
        "colab_type": "text",
        "id": "view-in-github"
      },
      "source": [
        "<a href=\"https://colab.research.google.com/github/radeonaru/pcvk_ganjil_2024/blob/main/Week1.ipynb\" target=\"_parent\"><img src=\"https://colab.research.google.com/assets/colab-badge.svg\" alt=\"Open In Colab\"/></a>"
      ]
    },
    {
      "cell_type": "code",
      "execution_count": null,
      "metadata": {
        "id": "BYCd7p9Kd5Tz"
      },
      "outputs": [],
      "source": [
        "import numpy as np\n",
        "import pandas as pd\n",
        "import cv2 as cv\n",
        "from google.colab.patches import cv2_imshow\n",
        "from skimage import io\n",
        "from skimage import transform\n",
        "from PIL import Image\n",
        "import matplotlib.pylab as plt"
      ]
    },
    {
      "cell_type": "code",
      "execution_count": null,
      "metadata": {},
      "outputs": [],
      "source": [
        "urls = [\"https://iiif.lib.ncsu.edu/iiif/0052574/full/800,/0/default.jpg\",\n",
        "        \"https://iiif.lib.ncsu.edu/iiif/0016007/full/800,/0/default.jpg\",\n",
        "        \"https://st5.depositphotos.com/6923920/66359/i/450/depositphotos_663596106-stock-photo-cat-green-grass.jpg\"] \n",
        "\n",
        "for url in urls:\n",
        "  image = io.imread(url)                            # read image\n",
        "  image = cv.resize(image, (0,0), fx=0.5, fy=0.5)   # resize image to half size\n",
        "  image_2 = cv.cvtColor(image, cv.COLOR_BGR2RGB)    # convert color to RGB\n",
        "  final_frame = cv.hconcat((image, image_2))        # concatenate image\n",
        "  cv2_imshow(final_frame)                           # show image\n",
        "  print('\\n')"
      ]
    },
    {
      "cell_type": "code",
      "execution_count": null,
      "metadata": {},
      "outputs": [],
      "source": [
        "image_2 = cv.cvtColor(image, cv.COLOR_BGR2RGB)\n",
        "image_3 = cv.cvtColor(image, cv.COLOR_BGR2RGB)\n",
        "\n",
        "for y in range (lebar):\n",
        "  image_3[int((tinggi)/2),y] = [255,255,255]\n",
        "\n",
        "final_frame = cv.hconcat((image_2, image_3))\n",
        "cv2_imshow(image_2)"
      ]
    },
    {
      "cell_type": "code",
      "execution_count": null,
      "metadata": {},
      "outputs": [],
      "source": []
    }
  ],
  "metadata": {
    "colab": {
      "authorship_tag": "ABX9TyODCfLHSKflxA689U8TWRf+",
      "include_colab_link": true,
      "provenance": [],
      "toc_visible": true
    },
    "kernelspec": {
      "display_name": "Python 3",
      "name": "python3"
    },
    "language_info": {
      "name": "python"
    }
  },
  "nbformat": 4,
  "nbformat_minor": 0
}
